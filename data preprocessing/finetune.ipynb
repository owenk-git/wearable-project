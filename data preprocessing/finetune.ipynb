{
 "cells": [
  {
   "cell_type": "code",
   "execution_count": 2,
   "id": "467ca126",
   "metadata": {},
   "outputs": [],
   "source": [
    "import sys\n",
    "sys.path.append(\"/home/ubuntu/wearable-project/\")\n",
    "from pathlib import Path\n",
    "from itertools import product\n",
    "from tqdm import tqdm\n",
    "import time\n",
    "import os\n",
    "import torch\n",
    "from nn_models import train_model\n",
    "import copy\n",
    "import numpy as np\n",
    "from sklearn.model_selection import train_test_split\n",
    "import h5py\n",
    "import traceback\n",
    "from nn_models.models.pure_conv import CustomConv1D  # noqa\n",
    "import nn_models.utils.prep_utils as prep_utils"
   ]
  },
  {
   "cell_type": "markdown",
   "id": "cd9a104a",
   "metadata": {},
   "source": [
    "## Data preprocessing"
   ]
  },
  {
   "cell_type": "markdown",
   "id": "77271720",
   "metadata": {},
   "source": [
    "### Split the data first"
   ]
  },
  {
   "cell_type": "code",
   "execution_count": 10,
   "id": "7300ec1b",
   "metadata": {},
   "outputs": [],
   "source": [
    "data_dir = \"/Users/ccy/Documents/CMU/Spring2025/42696 Wearable Health Technology/Projects/wearable-project/data preprocessing/Lab_data_finetune/Walking_1/split/s23_2\" \n",
    "train_dir = \"/Users/ccy/Documents/CMU/Spring2025/42696 Wearable Health Technology/Projects/wearable-project/data preprocessing/Lab_data_finetune/Walking_1/split/s23_5\"\n",
    "test_dir = \"/Users/ccy/Documents/CMU/Spring2025/42696 Wearable Health Technology/Projects/wearable-project/data preprocessing/Lab_data_finetune/Walking_1/split/s23_6\"\n",
    "\n",
    "split_ratio = 0.5  # 80% train, 20% test\n",
    "\n",
    "def save_split_data(data, train_path, test_path):\n",
    "    os.makedirs(os.path.dirname(train_path), exist_ok=True)\n",
    "    os.makedirs(os.path.dirname(test_path), exist_ok=True)\n",
    "\n",
    "    train_data, test_data = train_test_split(data, train_size=split_ratio, shuffle=False)\n",
    "    np.save(train_path, train_data)\n",
    "    np.save(test_path, test_data)\n",
    "\n",
    "for root, dirs, files in os.walk(data_dir):\n",
    "    for file in files:\n",
    "        if file.endswith(\".npy\"):\n",
    "            full_path = os.path.join(root, file)\n",
    "            rel_path = os.path.relpath(full_path, data_dir)\n",
    "            \n",
    "            # 建立新的路徑\n",
    "            train_path = os.path.join(train_dir, rel_path)\n",
    "            test_path = os.path.join(test_dir, rel_path)\n",
    "\n",
    "            # 載入與切割資料\n",
    "            data = np.load(full_path)\n",
    "            save_split_data(data, train_path, test_path)\n"
   ]
  },
  {
   "cell_type": "code",
   "execution_count": null,
   "id": "ed327915",
   "metadata": {},
   "outputs": [],
   "source": [
    "base_path = \"/home/ubuntu/wearable-project/data preprocessing/Amass_data/Walking\"\n",
    "\n",
    "# Loop through all items in the directory\n",
    "for folder in os.listdir(base_path):\n",
    "    old_path = os.path.join(base_path, folder)\n",
    "    if os.path.isdir(old_path) and folder.isdigit():\n",
    "        new_name = 's' + folder\n",
    "        new_path = os.path.join(base_path, new_name)\n",
    "        os.rename(old_path, new_path)\n",
    "        print(f\"Renamed {folder} → {new_name}\")"
   ]
  },
  {
   "cell_type": "markdown",
   "id": "faa034e4",
   "metadata": {},
   "source": [
    "### Convert into h5"
   ]
  },
  {
   "cell_type": "code",
   "execution_count": 20,
   "id": "5e912e94",
   "metadata": {},
   "outputs": [
    {
     "name": "stdout",
     "output_type": "stream",
     "text": [
      "✅ Successfully saved HDF5 file to: Walking.h5\n"
     ]
    }
   ],
   "source": [
    "# Set the base data folder and output file name\n",
    "base_dir = '/home/ubuntu/wearable-project/data preprocessing/Lab_data_finetune/Walking'\n",
    "output_path = 'Walking.h5'\n",
    "\n",
    "with h5py.File(output_path, 'w') as h5file:\n",
    "    for subject in os.listdir(base_dir):\n",
    "        subject_path = os.path.join(base_dir, subject)\n",
    "        if not os.path.isdir(subject_path):\n",
    "            continue  # Skip non-directory files\n",
    "\n",
    "        for body_part in os.listdir(subject_path):\n",
    "            part_path = os.path.join(subject_path, body_part)\n",
    "            if not os.path.isdir(part_path):\n",
    "                continue\n",
    "\n",
    "            for file in os.listdir(part_path):\n",
    "                if file.endswith('.npy'):\n",
    "                    file_path = os.path.join(part_path, file)\n",
    "                    data = np.load(file_path)\n",
    "\n",
    "                    # Remove .npy extension, e.g., 'acc.npy' -> 'acc'\n",
    "                    dataset_name = os.path.splitext(file)[0]\n",
    "\n",
    "                    # Build the group path in the HDF5 file, e.g., s22_1/LeftFoot/acc\n",
    "                    group_path = f\"{subject}/{body_part}/{dataset_name}\"\n",
    "\n",
    "                    # Save the dataset\n",
    "                    h5file.create_dataset(group_path, data=data)\n",
    "\n",
    "print(f\"✅ Successfully saved HDF5 file to: {output_path}\")\n"
   ]
  },
  {
   "cell_type": "code",
   "execution_count": 19,
   "id": "3fe4bc8d",
   "metadata": {},
   "outputs": [
    {
     "name": "stdout",
     "output_type": "stream",
     "text": [
      "✅ Rename done.\n"
     ]
    }
   ],
   "source": [
    "RENAME_MAP = {\n",
    "    'LeftFoot': 'lfoot',\n",
    "    'LeftShank': 'lshank',\n",
    "    'LeftKneeAngle': 'lknee',\n",
    "    'LeftThigh': 'lthigh',\n",
    "    'LeftHipAngle': 'lhip',\n",
    "    'LeftAnkleAngle': 'lankle',\n",
    "    'RightFoot': 'rfoot',\n",
    "    'RightShank': 'rshank',\n",
    "    'RightKneeAngle': 'rknee',\n",
    "    'RightThigh': 'rthigh',\n",
    "    'RightHipAngle': 'rhip',\n",
    "    'RightAnkleAngle': 'rankle',\n",
    "    'Pelvis':'pelvis'\n",
    "}\n",
    "\n",
    "\n",
    "def rename_folders(base_path):\n",
    "    for root, dirs, files in os.walk(base_path):\n",
    "        for name in dirs:\n",
    "            if name in RENAME_MAP:\n",
    "                old_path = os.path.join(root, name)\n",
    "                new_path = os.path.join(root, RENAME_MAP[name])\n",
    "                print(f\"🔄 Renaming {old_path} → {new_path}\")\n",
    "                os.rename(old_path, new_path)\n",
    "\n",
    "if __name__ == '__main__':\n",
    "    base_dir = '/home/ubuntu/wearable-project/data preprocessing/Lab_data_finetune/Walking_1/split/s23_4'  # ← 換成你 Running 資料夾的絕對路徑\n",
    "    rename_folders(base_dir)\n",
    "    print(\"✅ Rename done.\")\n"
   ]
  },
  {
   "cell_type": "code",
   "execution_count": null,
   "id": "5a995537",
   "metadata": {},
   "outputs": [],
   "source": [
    "with h5py.File('/home/ubuntu/wearable-project/data preprocessing/Amass_data/Walking.h5', 'r') as f:\n",
    "    def print_tree(name, obj):\n",
    "        print(name)\n",
    "    f.visititems(print_tree)\n"
   ]
  },
  {
   "cell_type": "markdown",
   "id": "7f0aba62",
   "metadata": {},
   "source": [
    "## Finetune"
   ]
  },
  {
   "cell_type": "markdown",
   "id": "238e1e28",
   "metadata": {},
   "source": [
    "### Finetune transformer"
   ]
  },
  {
   "cell_type": "code",
   "execution_count": 24,
   "id": "6ffc9ff8",
   "metadata": {},
   "outputs": [],
   "source": [
    "def finetune_transformer(\n",
    "    joint='Knee',\n",
    "    activity='Walking',\n",
    "    base_path='/home/ubuntu/wearable-project/data preprocessing/Amass_data',\n",
    "    result_folder='/home/ubuntu/wearable-project/data preprocessing/result/finetuned_results',\n",
    "    base_weight_path='/home/ubuntu/wearable-project/data preprocessing/model/transformer/angle_model',  # 新增的權重路徑根目錄\n",
    "    num_iter=1000,\n",
    "    batch_size= 4,##16,\n",
    "    seq_len=100,\n",
    "    lr=0.001,\n",
    "    lr_decay=0.98\n",
    "):\n",
    "\n",
    "    #joint = joint.lower()\n",
    "    #activity = activity.lower()\n",
    "\n",
    "    assert activity in ['Walking', 'Running']\n",
    "    assert joint in ['Hip', 'Knee', 'Ankle']\n",
    "\n",
    "    data_path = os.path.join(base_path, f'{activity}.h5')\n",
    "    result_path = os.path.join(result_folder, activity, joint)\n",
    "    os.makedirs(result_path, exist_ok=True)\n",
    "\n",
    "    # 🧠 自動組合預訓練模型的路徑\n",
    "    pretrained_model_path = os.path.join(base_weight_path, activity, joint)\n",
    "    if not os.path.exists(os.path.join(pretrained_model_path, 'model.pt')):\n",
    "        raise FileNotFoundError(f\"[X] model.pt not found in: {pretrained_model_path}\")\n",
    "    \n",
    "    # General spec\n",
    "    general_spec = {  \n",
    "        'name': f\"{activity}-{joint}\",\n",
    "        'model_type': 'transformer',\n",
    "        'data_path': data_path,\n",
    "        'result_path': result_path + '/',\n",
    "        'inp': ['pelvis', 'thigh'] if joint == 'Hip'\n",
    "        else ['thigh', 'shank'] if joint == 'Knee'\n",
    "        else ['shank', 'foot'],\n",
    "        'outp': [joint.lower()],\n",
    "        'log_metrics': ['loss', 'lr', 'rmse'],\n",
    "        'log_freq': 100,\n",
    "        'check_freq': 500,\n",
    "        'optim': 'Adam',\n",
    "        'lr': lr,\n",
    "        'loss': 'MSELoss',\n",
    "        'scheduler': 'ExponentialLR',\n",
    "        'lr_decay': lr_decay,\n",
    "        'prog': True,\n",
    "        'aug': False,\n",
    "        'x_noise': 0.15,\n",
    "        'y_noise': 0,\n",
    "        'seq_len': [seq_len],\n",
    "        'num_iter': [num_iter],\n",
    "        'batch_size': [batch_size],\n",
    "        'pretrained': pretrained_model_path  # <--- 自動載入這裡\n",
    "    }\n",
    "\n",
    "    # Model config for Transformer\n",
    "    model_spec = {\n",
    "        'inp_size': [8 * len(general_spec['inp'])],\n",
    "        'outp_size': [3 * len(general_spec['outp'])],\n",
    "        'd_model': 96,\n",
    "        'num_heads': 6,\n",
    "        'num_layers': 10,\n",
    "        'max_seq_len': 200,\n",
    "        'prediction': 'angle'\n",
    "    }\n",
    "    \n",
    "    train_model.main(copy.deepcopy(general_spec), copy.deepcopy(model_spec), show_bar=True)\n",
    "    torch.cuda.empty_cache()\n",
    "\n",
    "    print(f\"[✓] Fine-tuning finished: {activity}-{joint}\")\n",
    "    print(f\"Saved to: {general_spec['result_path']}\")"
   ]
  },
  {
   "cell_type": "code",
   "execution_count": 25,
   "id": "6f1f1b2f",
   "metadata": {},
   "outputs": [
    {
     "name": "stdout",
     "output_type": "stream",
     "text": [
      "\n",
      "🔁 Fine-tuning 1 combinations...\n",
      "\n"
     ]
    },
    {
     "name": "stderr",
     "output_type": "stream",
     "text": [
      "  0%|          | 0/1 [00:00<?, ?it/s]"
     ]
    },
    {
     "name": "stdout",
     "output_type": "stream",
     "text": [
      "\n",
      "🚀 Fine-tuning: WALKING - KNEE\n",
      "Using device: cuda\n",
      "\n",
      "Tesla V100-SXM2-16GB\n",
      "Memory Usage:\n",
      "Allocated: 0.0 GB\n",
      "Cached:    0.0 GB\n"
     ]
    },
    {
     "name": "stderr",
     "output_type": "stream",
     "text": [
      "/home/ubuntu/wearable-project/nn_models/utils/prep_utils.py:162: FutureWarning: `torch.cuda.memory_cached` has been renamed to `torch.cuda.memory_reserved`\n",
      "  print('Cached:   ', round(torch.cuda.memory_cached(0)/1024**3, 1), 'GB')\n"
     ]
    },
    {
     "name": "stdout",
     "output_type": "stream",
     "text": [
      "transformer(\n",
      "  (input_linear): Linear(in_features=16, out_features=96, bias=True)\n",
      "  (layers): ModuleList(\n",
      "    (0-9): 10 x TransformerEncoderLayerRoPE(\n",
      "      (self_attn): MultiHeadAttentionRoPE(\n",
      "        (qkv_proj): Linear(in_features=96, out_features=288, bias=True)\n",
      "        (out_proj): Linear(in_features=96, out_features=96, bias=True)\n",
      "      )\n",
      "      (linear1): Linear(in_features=96, out_features=256, bias=True)\n",
      "      (dropout): Dropout(p=0.1, inplace=False)\n",
      "      (linear2): Linear(in_features=256, out_features=96, bias=True)\n",
      "      (norm1): LayerNorm((96,), eps=1e-05, elementwise_affine=True)\n",
      "      (norm2): LayerNorm((96,), eps=1e-05, elementwise_affine=True)\n",
      "      (dropout1): Dropout(p=0.1, inplace=False)\n",
      "      (dropout2): Dropout(p=0.1, inplace=False)\n",
      "    )\n",
      "  )\n",
      "  (out_linear): Linear(in_features=96, out_features=3, bias=True)\n",
      ")\n",
      "Total number of trainable parameters: 873283\n",
      "path: /home/ubuntu/wearable-project/data preprocessing/result/finetuned_results/Walking/Knee/Walking-Knee\n",
      "[DEBUG] setting seq_len with None\n",
      "[DEBUG] setting seq_len with None\n",
      "[DEBUG] setting seq_len with 3875\n",
      "[DEBUG] setting seq_len with None\n",
      "[DEBUG] setting seq_len with 3875\n",
      "[DEBUG] setting seq_len with 3625\n",
      "[DEBUG] setting seq_len with None\n",
      "Starting stage 1/1\n",
      "[DEBUG] setting seq_len with 100\n"
     ]
    },
    {
     "name": "stderr",
     "output_type": "stream",
     "text": [
      "100%|██████████| 3000/3000 [02:24<00:00, 20.72it/s, Train loss=0.3276, Val loss=0.2337]\n"
     ]
    },
    {
     "name": "stdout",
     "output_type": "stream",
     "text": [
      "\n",
      "Stage finished! \n",
      "\n",
      "[✓] Fine-tuning finished: Walking-Knee\n",
      "Saved to: /home/ubuntu/wearable-project/data preprocessing/result/finetuned_results/Walking/Knee/\n"
     ]
    },
    {
     "name": "stderr",
     "output_type": "stream",
     "text": [
      "100%|██████████| 1/1 [02:29<00:00, 149.19s/it]"
     ]
    },
    {
     "name": "stdout",
     "output_type": "stream",
     "text": [
      "\n",
      "✅ All fine-tuning complete!\n"
     ]
    },
    {
     "name": "stderr",
     "output_type": "stream",
     "text": [
      "\n"
     ]
    }
   ],
   "source": [
    "def finetune_all_models(\n",
    "    activities=('Walking',),\n",
    "    joints=('Knee',),\n",
    "    base_path='/home/ubuntu/wearable-project/data preprocessing/Lab_data_finetune',\n",
    "    result_folder='/home/ubuntu/wearable-project/data preprocessing/result/finetuned_results',\n",
    "    base_weight_path='/home/ubuntu/wearable-project/data preprocessing/model/transformer/angle_model',\n",
    "    num_iter=3000,\n",
    "    batch_size=4,\n",
    "    seq_len=100,\n",
    "    lr=0.0001,\n",
    "    lr_decay=0.98\n",
    "):\n",
    "\n",
    "    combinations = list(product(activities, joints))\n",
    "    print(f\"\\n🔁 Fine-tuning {len(combinations)} combinations...\\n\")\n",
    "\n",
    "    for activity, joint in tqdm(combinations):\n",
    "        try:\n",
    "            print(f\"\\n🚀 Fine-tuning: {activity.upper()} - {joint.upper()}\")\n",
    "            finetune_transformer(\n",
    "                joint=joint,\n",
    "                activity=activity,\n",
    "                base_path=base_path,\n",
    "                result_folder=result_folder,\n",
    "                base_weight_path=base_weight_path,\n",
    "                # ← pass them along ↓\n",
    "                num_iter=num_iter,\n",
    "                batch_size=batch_size,\n",
    "                seq_len=seq_len,\n",
    "                lr=lr,\n",
    "                lr_decay=lr_decay\n",
    "            )\n",
    "        except Exception as e:\n",
    "            print(f\"[X] Failed: {activity}-{joint} -> {e}\")\n",
    "            traceback.print_exc()\n",
    "        time.sleep(1)  \n",
    "\n",
    "    print(\"\\n✅ All fine-tuning complete!\")\n",
    "\n",
    "if __name__ == '__main__':\n",
    "    finetune_all_models()"
   ]
  }
 ],
 "metadata": {
  "kernelspec": {
   "display_name": "cmu16824hw1",
   "language": "python",
   "name": "python3"
  },
  "language_info": {
   "codemirror_mode": {
    "name": "ipython",
    "version": 3
   },
   "file_extension": ".py",
   "mimetype": "text/x-python",
   "name": "python",
   "nbconvert_exporter": "python",
   "pygments_lexer": "ipython3",
   "version": "3.10.14"
  }
 },
 "nbformat": 4,
 "nbformat_minor": 5
}
